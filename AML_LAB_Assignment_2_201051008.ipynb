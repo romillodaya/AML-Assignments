{
  "nbformat": 4,
  "nbformat_minor": 0,
  "metadata": {
    "colab": {
      "name": "AML_LAB_Assignment_2_201051008.ipynb",
      "provenance": []
    },
    "kernelspec": {
      "name": "python3",
      "display_name": "Python 3"
    }
  },
  "cells": [
    {
      "cell_type": "markdown",
      "metadata": {
        "id": "LR2sVnK_gJce"
      },
      "source": [
        "# Example of Lambda Function"
      ]
    },
    {
      "cell_type": "code",
      "metadata": {
        "id": "Wzv6vfxegAt6",
        "outputId": "d1d9b867-d121-4188-f586-60fb6a6b5b93",
        "colab": {
          "base_uri": "https://localhost:8080/"
        }
      },
      "source": [
        "power = lambda x, n : x**n\n",
        "\n",
        "print(power(2,4)) # Here x in number and n is power of number so output will be x^n"
      ],
      "execution_count": null,
      "outputs": [
        {
          "output_type": "stream",
          "text": [
            "16\n"
          ],
          "name": "stdout"
        }
      ]
    },
    {
      "cell_type": "markdown",
      "metadata": {
        "id": "O5HadowCgKDz"
      },
      "source": [
        "# Example of Map Function\n",
        "\n",
        "\n"
      ]
    },
    {
      "cell_type": "code",
      "metadata": {
        "id": "hRmDZb9LgmEw",
        "outputId": "ce22dec6-d58f-46c4-905c-8626fc05246d",
        "colab": {
          "base_uri": "https://localhost:8080/"
        }
      },
      "source": [
        "def square(x):\n",
        "    return x*x\n",
        "\n",
        "n=[*range(20)]\n",
        "sqaured_list=map(square, n)\n",
        "print(\"The sqaured list of values till 20 is \", list(sqaured_list))"
      ],
      "execution_count": null,
      "outputs": [
        {
          "output_type": "stream",
          "text": [
            "The sqaured list of values till 20 is  [0, 1, 4, 9, 16, 25, 36, 49, 64, 81, 100, 121, 144, 169, 196, 225, 256, 289, 324, 361]\n"
          ],
          "name": "stdout"
        }
      ]
    },
    {
      "cell_type": "markdown",
      "metadata": {
        "id": "NXkOwZkngKOn"
      },
      "source": [
        "# Example of Lambda and Map Function"
      ]
    },
    {
      "cell_type": "code",
      "metadata": {
        "id": "C6mcX7MJgmta",
        "outputId": "91521a3f-5ab5-4aed-fe10-51d3fbc8d927",
        "colab": {
          "base_uri": "https://localhost:8080/"
        }
      },
      "source": [
        "list1 = [1, 2, 3] \n",
        "list2 = [4, 5, 6] \n",
        "  \n",
        "result = map(lambda x, y: x * y, list1, list2) \n",
        "dotproduct = sum(list(result))\n",
        "print(dotproduct)\n"
      ],
      "execution_count": null,
      "outputs": [
        {
          "output_type": "stream",
          "text": [
            "32\n"
          ],
          "name": "stdout"
        }
      ]
    },
    {
      "cell_type": "markdown",
      "metadata": {
        "id": "Lwa2k6BQgKd8"
      },
      "source": [
        "## Example of Class and Methods "
      ]
    },
    {
      "cell_type": "code",
      "metadata": {
        "id": "XOvUd4dqgjcQ",
        "outputId": "b63a1f0d-9ec6-48c2-dca8-442f1f2cf748",
        "colab": {
          "base_uri": "https://localhost:8080/"
        }
      },
      "source": [
        "class Employee:\n",
        "    def __init__(self, name, age, salary):\n",
        "        self.name = name\n",
        "        self.age = age\n",
        "        self.salary = salary\n",
        "        self.dept = \"General\"\n",
        "\n",
        "    def set_dept(self, dept_name):\n",
        "        self.dept = dept_name\n",
        "    \n",
        "    def salary_increment(self, percent):\n",
        "        self.salary = self.salary + (self.salary*percent)/100\n",
        "\n",
        "    def get_details(self):\n",
        "        print('{} is {} years old and works for {} Department and has a salary of {} Rs'.format(self.name, self.age, self.dept, self.salary) )\n",
        "\n",
        "employee = Employee('Romil Lodaya', 22, 100000) # New employee registerd\n",
        "employee.set_dept('R&D') # Changing the department from General to R&D\n",
        "employee.salary_increment(20) #Salary increament by 20%\n",
        "\n",
        "employee.get_details() #Printing all the details"
      ],
      "execution_count": null,
      "outputs": [
        {
          "output_type": "stream",
          "text": [
            "Romil Lodaya is 22 years old and works for R&D Department and has a salary of 120000.0 Rs\n"
          ],
          "name": "stdout"
        }
      ]
    },
    {
      "cell_type": "markdown",
      "metadata": {
        "id": "3fhG_Q78gn9b"
      },
      "source": [
        "## Example of List Append"
      ]
    },
    {
      "cell_type": "code",
      "metadata": {
        "id": "HGoZOtUAgqzC",
        "outputId": "d929a0ba-8767-46f5-ff67-4cd5efb8105b",
        "colab": {
          "base_uri": "https://localhost:8080/"
        }
      },
      "source": [
        "my_list = [*range(20)]\n",
        "\n",
        "print('Old list = ',my_list)\n",
        "\n",
        "new_list = []\n",
        "\n",
        "for element in my_list:\n",
        "    if element % 3 == 0:\n",
        "        new_list.append(element)\n",
        "\n",
        "print('New list with number only divisible by 3 = ',new_list)\n"
      ],
      "execution_count": null,
      "outputs": [
        {
          "output_type": "stream",
          "text": [
            "Old list =  [0, 1, 2, 3, 4, 5, 6, 7, 8, 9, 10, 11, 12, 13, 14, 15, 16, 17, 18, 19]\n",
            "New list with number only divisible by 3 =  [0, 3, 6, 9, 12, 15, 18]\n"
          ],
          "name": "stdout"
        }
      ]
    },
    {
      "cell_type": "markdown",
      "metadata": {
        "id": "m1wP3SC9griv"
      },
      "source": [
        "# Table Creation"
      ]
    },
    {
      "cell_type": "code",
      "metadata": {
        "id": "NNrgvqvygvyK",
        "outputId": "29d140e3-504a-4dfc-d58c-ddd1b46b7620",
        "colab": {
          "base_uri": "https://localhost:8080/"
        }
      },
      "source": [
        "def create_table(num):\n",
        "    for i in range(1, 11):\n",
        "        print('{} x {} = {}'.format(num, i, num*i))\n",
        "\n",
        "\n",
        "num = int(input(\"Enter the number to form Table : \"))\n",
        "create_table(num)"
      ],
      "execution_count": null,
      "outputs": [
        {
          "output_type": "stream",
          "text": [
            "Enter the number to form Table : 5\n",
            "5 x 1 = 5\n",
            "5 x 2 = 10\n",
            "5 x 3 = 15\n",
            "5 x 4 = 20\n",
            "5 x 5 = 25\n",
            "5 x 6 = 30\n",
            "5 x 7 = 35\n",
            "5 x 8 = 40\n",
            "5 x 9 = 45\n",
            "5 x 10 = 50\n"
          ],
          "name": "stdout"
        }
      ]
    }
  ]
}