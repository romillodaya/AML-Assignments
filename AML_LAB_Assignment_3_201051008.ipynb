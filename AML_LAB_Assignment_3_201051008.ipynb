{
  "nbformat": 4,
  "nbformat_minor": 0,
  "metadata": {
    "colab": {
      "name": "AML_LAB_Assignment_3_201051008.ipynb",
      "provenance": [],
      "collapsed_sections": []
    },
    "kernelspec": {
      "name": "python3",
      "display_name": "Python 3"
    }
  },
  "cells": [
    {
      "cell_type": "markdown",
      "metadata": {
        "id": "0kkFzhkYXJEn"
      },
      "source": [
        "create a series  for 5 persons going to play cricket, take their name as index, age, place from where they are.Create a dataframe, after that append cost spend by each person for there travel to reach the ground then add 2 new persons to the series and show all 7 person in the list. Keep that data structure as it is and copy the dataframe then from the copied one remove the first 2 persons details then change the cost of remaining 5 personsby increasing 10 to each."
      ]
    },
    {
      "cell_type": "code",
      "metadata": {
        "id": "VOfHdoVJUhQu"
      },
      "source": [
        "import numpy as np\n",
        "import pandas as pd"
      ],
      "execution_count": 72,
      "outputs": []
    },
    {
      "cell_type": "code",
      "metadata": {
        "id": "RVA4pjUyUdbB",
        "outputId": "8477d0d7-5c7e-4af7-dcf4-b7e99c731335",
        "colab": {
          "base_uri": "https://localhost:8080/",
          "height": 204
        }
      },
      "source": [
        "p1 = pd.Series({'Name': 'Romil',\n",
        "                'age': 22,\n",
        "                'place': 'Hubli'})\n",
        "p2 = pd.Series({'Name': 'Abhay',\n",
        "                'age': 23,\n",
        "                'place': 'Pune'})\n",
        "p3 = pd.Series({'Name': 'Mayank',\n",
        "                'age': 24,\n",
        "                'place': 'Nashik'})\n",
        "p4 = pd.Series({'Name': 'Piyush',\n",
        "                'age': 22,\n",
        "                'place': 'Mumbai'})\n",
        "p5 = pd.Series({'Name': 'Ronak',\n",
        "                'age': 26,\n",
        "                'place': 'Bangalore'})\n",
        "\n",
        "df = pd.DataFrame([p1,p2,p3,p4,p5])\n",
        "df.head(len(df))\n"
      ],
      "execution_count": 73,
      "outputs": [
        {
          "output_type": "execute_result",
          "data": {
            "text/html": [
              "<div>\n",
              "<style scoped>\n",
              "    .dataframe tbody tr th:only-of-type {\n",
              "        vertical-align: middle;\n",
              "    }\n",
              "\n",
              "    .dataframe tbody tr th {\n",
              "        vertical-align: top;\n",
              "    }\n",
              "\n",
              "    .dataframe thead th {\n",
              "        text-align: right;\n",
              "    }\n",
              "</style>\n",
              "<table border=\"1\" class=\"dataframe\">\n",
              "  <thead>\n",
              "    <tr style=\"text-align: right;\">\n",
              "      <th></th>\n",
              "      <th>Name</th>\n",
              "      <th>age</th>\n",
              "      <th>place</th>\n",
              "    </tr>\n",
              "  </thead>\n",
              "  <tbody>\n",
              "    <tr>\n",
              "      <th>0</th>\n",
              "      <td>Romil</td>\n",
              "      <td>22</td>\n",
              "      <td>Hubli</td>\n",
              "    </tr>\n",
              "    <tr>\n",
              "      <th>1</th>\n",
              "      <td>Abhay</td>\n",
              "      <td>23</td>\n",
              "      <td>Pune</td>\n",
              "    </tr>\n",
              "    <tr>\n",
              "      <th>2</th>\n",
              "      <td>Mayank</td>\n",
              "      <td>24</td>\n",
              "      <td>Nashik</td>\n",
              "    </tr>\n",
              "    <tr>\n",
              "      <th>3</th>\n",
              "      <td>Piyush</td>\n",
              "      <td>22</td>\n",
              "      <td>Mumbai</td>\n",
              "    </tr>\n",
              "    <tr>\n",
              "      <th>4</th>\n",
              "      <td>Ronak</td>\n",
              "      <td>26</td>\n",
              "      <td>Bangalore</td>\n",
              "    </tr>\n",
              "  </tbody>\n",
              "</table>\n",
              "</div>"
            ],
            "text/plain": [
              "     Name  age      place\n",
              "0   Romil   22      Hubli\n",
              "1   Abhay   23       Pune\n",
              "2  Mayank   24     Nashik\n",
              "3  Piyush   22     Mumbai\n",
              "4   Ronak   26  Bangalore"
            ]
          },
          "metadata": {
            "tags": []
          },
          "execution_count": 73
        }
      ]
    },
    {
      "cell_type": "code",
      "metadata": {
        "id": "bSZhXWpQjUT-",
        "outputId": "2b0cc2f6-78d2-4034-c690-590303b2656a",
        "colab": {
          "base_uri": "https://localhost:8080/",
          "height": 204
        }
      },
      "source": [
        "df['cost'] = [10,20,30,40,50]\n",
        "df.head(len(df))"
      ],
      "execution_count": 74,
      "outputs": [
        {
          "output_type": "execute_result",
          "data": {
            "text/html": [
              "<div>\n",
              "<style scoped>\n",
              "    .dataframe tbody tr th:only-of-type {\n",
              "        vertical-align: middle;\n",
              "    }\n",
              "\n",
              "    .dataframe tbody tr th {\n",
              "        vertical-align: top;\n",
              "    }\n",
              "\n",
              "    .dataframe thead th {\n",
              "        text-align: right;\n",
              "    }\n",
              "</style>\n",
              "<table border=\"1\" class=\"dataframe\">\n",
              "  <thead>\n",
              "    <tr style=\"text-align: right;\">\n",
              "      <th></th>\n",
              "      <th>Name</th>\n",
              "      <th>age</th>\n",
              "      <th>place</th>\n",
              "      <th>cost</th>\n",
              "    </tr>\n",
              "  </thead>\n",
              "  <tbody>\n",
              "    <tr>\n",
              "      <th>0</th>\n",
              "      <td>Romil</td>\n",
              "      <td>22</td>\n",
              "      <td>Hubli</td>\n",
              "      <td>10</td>\n",
              "    </tr>\n",
              "    <tr>\n",
              "      <th>1</th>\n",
              "      <td>Abhay</td>\n",
              "      <td>23</td>\n",
              "      <td>Pune</td>\n",
              "      <td>20</td>\n",
              "    </tr>\n",
              "    <tr>\n",
              "      <th>2</th>\n",
              "      <td>Mayank</td>\n",
              "      <td>24</td>\n",
              "      <td>Nashik</td>\n",
              "      <td>30</td>\n",
              "    </tr>\n",
              "    <tr>\n",
              "      <th>3</th>\n",
              "      <td>Piyush</td>\n",
              "      <td>22</td>\n",
              "      <td>Mumbai</td>\n",
              "      <td>40</td>\n",
              "    </tr>\n",
              "    <tr>\n",
              "      <th>4</th>\n",
              "      <td>Ronak</td>\n",
              "      <td>26</td>\n",
              "      <td>Bangalore</td>\n",
              "      <td>50</td>\n",
              "    </tr>\n",
              "  </tbody>\n",
              "</table>\n",
              "</div>"
            ],
            "text/plain": [
              "     Name  age      place  cost\n",
              "0   Romil   22      Hubli    10\n",
              "1   Abhay   23       Pune    20\n",
              "2  Mayank   24     Nashik    30\n",
              "3  Piyush   22     Mumbai    40\n",
              "4   Ronak   26  Bangalore    50"
            ]
          },
          "metadata": {
            "tags": []
          },
          "execution_count": 74
        }
      ]
    },
    {
      "cell_type": "code",
      "metadata": {
        "id": "bA-RCYSGjVvt",
        "outputId": "fadbb898-d152-44d6-818a-20f38fbd8c2d",
        "colab": {
          "base_uri": "https://localhost:8080/",
          "height": 266
        }
      },
      "source": [
        "p6 = pd.Series({'Name': 'Rakesh',\n",
        "                'age': 20,\n",
        "                'place': 'Delhi',\n",
        "                'cost' : 60})\n",
        "p7 = pd.Series({'Name': 'Rohan',\n",
        "                'age': 23,\n",
        "                'place': 'Chennai',\n",
        "                'cost' : 70})\n",
        "\n",
        "df =df.append([p6,p7],ignore_index=True)\n",
        "df.head(len(df))"
      ],
      "execution_count": 75,
      "outputs": [
        {
          "output_type": "execute_result",
          "data": {
            "text/html": [
              "<div>\n",
              "<style scoped>\n",
              "    .dataframe tbody tr th:only-of-type {\n",
              "        vertical-align: middle;\n",
              "    }\n",
              "\n",
              "    .dataframe tbody tr th {\n",
              "        vertical-align: top;\n",
              "    }\n",
              "\n",
              "    .dataframe thead th {\n",
              "        text-align: right;\n",
              "    }\n",
              "</style>\n",
              "<table border=\"1\" class=\"dataframe\">\n",
              "  <thead>\n",
              "    <tr style=\"text-align: right;\">\n",
              "      <th></th>\n",
              "      <th>Name</th>\n",
              "      <th>age</th>\n",
              "      <th>place</th>\n",
              "      <th>cost</th>\n",
              "    </tr>\n",
              "  </thead>\n",
              "  <tbody>\n",
              "    <tr>\n",
              "      <th>0</th>\n",
              "      <td>Romil</td>\n",
              "      <td>22</td>\n",
              "      <td>Hubli</td>\n",
              "      <td>10</td>\n",
              "    </tr>\n",
              "    <tr>\n",
              "      <th>1</th>\n",
              "      <td>Abhay</td>\n",
              "      <td>23</td>\n",
              "      <td>Pune</td>\n",
              "      <td>20</td>\n",
              "    </tr>\n",
              "    <tr>\n",
              "      <th>2</th>\n",
              "      <td>Mayank</td>\n",
              "      <td>24</td>\n",
              "      <td>Nashik</td>\n",
              "      <td>30</td>\n",
              "    </tr>\n",
              "    <tr>\n",
              "      <th>3</th>\n",
              "      <td>Piyush</td>\n",
              "      <td>22</td>\n",
              "      <td>Mumbai</td>\n",
              "      <td>40</td>\n",
              "    </tr>\n",
              "    <tr>\n",
              "      <th>4</th>\n",
              "      <td>Ronak</td>\n",
              "      <td>26</td>\n",
              "      <td>Bangalore</td>\n",
              "      <td>50</td>\n",
              "    </tr>\n",
              "    <tr>\n",
              "      <th>5</th>\n",
              "      <td>Rakesh</td>\n",
              "      <td>20</td>\n",
              "      <td>Delhi</td>\n",
              "      <td>60</td>\n",
              "    </tr>\n",
              "    <tr>\n",
              "      <th>6</th>\n",
              "      <td>Rohan</td>\n",
              "      <td>23</td>\n",
              "      <td>Chennai</td>\n",
              "      <td>70</td>\n",
              "    </tr>\n",
              "  </tbody>\n",
              "</table>\n",
              "</div>"
            ],
            "text/plain": [
              "     Name  age      place  cost\n",
              "0   Romil   22      Hubli    10\n",
              "1   Abhay   23       Pune    20\n",
              "2  Mayank   24     Nashik    30\n",
              "3  Piyush   22     Mumbai    40\n",
              "4   Ronak   26  Bangalore    50\n",
              "5  Rakesh   20      Delhi    60\n",
              "6   Rohan   23    Chennai    70"
            ]
          },
          "metadata": {
            "tags": []
          },
          "execution_count": 75
        }
      ]
    },
    {
      "cell_type": "code",
      "metadata": {
        "id": "M5Y7lHiSlpMp",
        "outputId": "8d89bfae-13ff-4e78-9061-131c2fa51452",
        "colab": {
          "base_uri": "https://localhost:8080/",
          "height": 204
        }
      },
      "source": [
        "new_df = df.copy()\n",
        "new_df = new_df.drop([0,1])\n",
        "new_df.head(len(new_df))"
      ],
      "execution_count": 76,
      "outputs": [
        {
          "output_type": "execute_result",
          "data": {
            "text/html": [
              "<div>\n",
              "<style scoped>\n",
              "    .dataframe tbody tr th:only-of-type {\n",
              "        vertical-align: middle;\n",
              "    }\n",
              "\n",
              "    .dataframe tbody tr th {\n",
              "        vertical-align: top;\n",
              "    }\n",
              "\n",
              "    .dataframe thead th {\n",
              "        text-align: right;\n",
              "    }\n",
              "</style>\n",
              "<table border=\"1\" class=\"dataframe\">\n",
              "  <thead>\n",
              "    <tr style=\"text-align: right;\">\n",
              "      <th></th>\n",
              "      <th>Name</th>\n",
              "      <th>age</th>\n",
              "      <th>place</th>\n",
              "      <th>cost</th>\n",
              "    </tr>\n",
              "  </thead>\n",
              "  <tbody>\n",
              "    <tr>\n",
              "      <th>2</th>\n",
              "      <td>Mayank</td>\n",
              "      <td>24</td>\n",
              "      <td>Nashik</td>\n",
              "      <td>30</td>\n",
              "    </tr>\n",
              "    <tr>\n",
              "      <th>3</th>\n",
              "      <td>Piyush</td>\n",
              "      <td>22</td>\n",
              "      <td>Mumbai</td>\n",
              "      <td>40</td>\n",
              "    </tr>\n",
              "    <tr>\n",
              "      <th>4</th>\n",
              "      <td>Ronak</td>\n",
              "      <td>26</td>\n",
              "      <td>Bangalore</td>\n",
              "      <td>50</td>\n",
              "    </tr>\n",
              "    <tr>\n",
              "      <th>5</th>\n",
              "      <td>Rakesh</td>\n",
              "      <td>20</td>\n",
              "      <td>Delhi</td>\n",
              "      <td>60</td>\n",
              "    </tr>\n",
              "    <tr>\n",
              "      <th>6</th>\n",
              "      <td>Rohan</td>\n",
              "      <td>23</td>\n",
              "      <td>Chennai</td>\n",
              "      <td>70</td>\n",
              "    </tr>\n",
              "  </tbody>\n",
              "</table>\n",
              "</div>"
            ],
            "text/plain": [
              "     Name  age      place  cost\n",
              "2  Mayank   24     Nashik    30\n",
              "3  Piyush   22     Mumbai    40\n",
              "4   Ronak   26  Bangalore    50\n",
              "5  Rakesh   20      Delhi    60\n",
              "6   Rohan   23    Chennai    70"
            ]
          },
          "metadata": {
            "tags": []
          },
          "execution_count": 76
        }
      ]
    },
    {
      "cell_type": "code",
      "metadata": {
        "id": "5MM38_XwrDB6",
        "outputId": "f9923054-cdb1-4607-ce1d-7dff4c0ffb0c",
        "colab": {
          "base_uri": "https://localhost:8080/",
          "height": 204
        }
      },
      "source": [
        "new_df['cost'] = new_df['cost'] + 10\n",
        "new_df.head(len(new_df))"
      ],
      "execution_count": 77,
      "outputs": [
        {
          "output_type": "execute_result",
          "data": {
            "text/html": [
              "<div>\n",
              "<style scoped>\n",
              "    .dataframe tbody tr th:only-of-type {\n",
              "        vertical-align: middle;\n",
              "    }\n",
              "\n",
              "    .dataframe tbody tr th {\n",
              "        vertical-align: top;\n",
              "    }\n",
              "\n",
              "    .dataframe thead th {\n",
              "        text-align: right;\n",
              "    }\n",
              "</style>\n",
              "<table border=\"1\" class=\"dataframe\">\n",
              "  <thead>\n",
              "    <tr style=\"text-align: right;\">\n",
              "      <th></th>\n",
              "      <th>Name</th>\n",
              "      <th>age</th>\n",
              "      <th>place</th>\n",
              "      <th>cost</th>\n",
              "    </tr>\n",
              "  </thead>\n",
              "  <tbody>\n",
              "    <tr>\n",
              "      <th>2</th>\n",
              "      <td>Mayank</td>\n",
              "      <td>24</td>\n",
              "      <td>Nashik</td>\n",
              "      <td>40</td>\n",
              "    </tr>\n",
              "    <tr>\n",
              "      <th>3</th>\n",
              "      <td>Piyush</td>\n",
              "      <td>22</td>\n",
              "      <td>Mumbai</td>\n",
              "      <td>50</td>\n",
              "    </tr>\n",
              "    <tr>\n",
              "      <th>4</th>\n",
              "      <td>Ronak</td>\n",
              "      <td>26</td>\n",
              "      <td>Bangalore</td>\n",
              "      <td>60</td>\n",
              "    </tr>\n",
              "    <tr>\n",
              "      <th>5</th>\n",
              "      <td>Rakesh</td>\n",
              "      <td>20</td>\n",
              "      <td>Delhi</td>\n",
              "      <td>70</td>\n",
              "    </tr>\n",
              "    <tr>\n",
              "      <th>6</th>\n",
              "      <td>Rohan</td>\n",
              "      <td>23</td>\n",
              "      <td>Chennai</td>\n",
              "      <td>80</td>\n",
              "    </tr>\n",
              "  </tbody>\n",
              "</table>\n",
              "</div>"
            ],
            "text/plain": [
              "     Name  age      place  cost\n",
              "2  Mayank   24     Nashik    40\n",
              "3  Piyush   22     Mumbai    50\n",
              "4   Ronak   26  Bangalore    60\n",
              "5  Rakesh   20      Delhi    70\n",
              "6   Rohan   23    Chennai    80"
            ]
          },
          "metadata": {
            "tags": []
          },
          "execution_count": 77
        }
      ]
    },
    {
      "cell_type": "code",
      "metadata": {
        "id": "hTzNZW48rFFo"
      },
      "source": [
        ""
      ],
      "execution_count": 77,
      "outputs": []
    }
  ]
}